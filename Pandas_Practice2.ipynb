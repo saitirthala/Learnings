{
 "cells": [
  {
   "cell_type": "code",
   "execution_count": 1,
   "metadata": {},
   "outputs": [],
   "source": [
    "import pandas as pd"
   ]
  },
  {
   "cell_type": "code",
   "execution_count": 3,
   "metadata": {},
   "outputs": [],
   "source": [
    "df = pd.read_csv(r\"C:\\Users\\SAI\\Downloads\\Survey_Resp.csv\")"
   ]
  },
  {
   "cell_type": "code",
   "execution_count": 5,
   "metadata": {},
   "outputs": [
    {
     "data": {
      "text/html": [
       "<div>\n",
       "<style scoped>\n",
       "    .dataframe tbody tr th:only-of-type {\n",
       "        vertical-align: middle;\n",
       "    }\n",
       "\n",
       "    .dataframe tbody tr th {\n",
       "        vertical-align: top;\n",
       "    }\n",
       "\n",
       "    .dataframe thead th {\n",
       "        text-align: right;\n",
       "    }\n",
       "</style>\n",
       "<table border=\"1\" class=\"dataframe\">\n",
       "  <thead>\n",
       "    <tr style=\"text-align: right;\">\n",
       "      <th></th>\n",
       "      <th>RESP_ID</th>\n",
       "      <th>SUR_SCORE</th>\n",
       "      <th>MASKED_IP</th>\n",
       "      <th>CRT_DT</th>\n",
       "      <th>COUNTRY_CODE</th>\n",
       "      <th>REGION</th>\n",
       "    </tr>\n",
       "  </thead>\n",
       "  <tbody>\n",
       "    <tr>\n",
       "      <th>0</th>\n",
       "      <td>13071656</td>\n",
       "      <td>8</td>\n",
       "      <td>MTQ5,Dk1,TMy,A==</td>\n",
       "      <td>1/18/2018 8:48</td>\n",
       "      <td>FI</td>\n",
       "      <td>uusimaa</td>\n",
       "    </tr>\n",
       "    <tr>\n",
       "      <th>1</th>\n",
       "      <td>13071811</td>\n",
       "      <td>10</td>\n",
       "      <td>MTM0Mjk4,TE0OA==</td>\n",
       "      <td>1/18/2018 8:59</td>\n",
       "      <td>FR</td>\n",
       "      <td>ile-de-france</td>\n",
       "    </tr>\n",
       "    <tr>\n",
       "      <th>2</th>\n",
       "      <td>13071889</td>\n",
       "      <td>9</td>\n",
       "      <td>MzY4,DgzOTU=</td>\n",
       "      <td>1/18/2018 9:05</td>\n",
       "      <td>AE</td>\n",
       "      <td>dubai</td>\n",
       "    </tr>\n",
       "    <tr>\n",
       "      <th>3</th>\n",
       "      <td>13071909</td>\n",
       "      <td>10</td>\n",
       "      <td>MTM4MzU5MjY2Mg==</td>\n",
       "      <td>1/18/2018 9:06</td>\n",
       "      <td>CZ</td>\n",
       "      <td>praha</td>\n",
       "    </tr>\n",
       "    <tr>\n",
       "      <th>4</th>\n",
       "      <td>13071920</td>\n",
       "      <td>10</td>\n",
       "      <td>MzU3ODcz,Tg1OA==</td>\n",
       "      <td>1/18/2018 9:07</td>\n",
       "      <td>IE</td>\n",
       "      <td>NaN</td>\n",
       "    </tr>\n",
       "  </tbody>\n",
       "</table>\n",
       "</div>"
      ],
      "text/plain": [
       "    RESP_ID  SUR_SCORE         MASKED_IP          CRT_DT COUNTRY_CODE  \\\n",
       "0  13071656          8  MTQ5,Dk1,TMy,A==  1/18/2018 8:48           FI   \n",
       "1  13071811         10  MTM0Mjk4,TE0OA==  1/18/2018 8:59           FR   \n",
       "2  13071889          9      MzY4,DgzOTU=  1/18/2018 9:05           AE   \n",
       "3  13071909         10  MTM4MzU5MjY2Mg==  1/18/2018 9:06           CZ   \n",
       "4  13071920         10  MzU3ODcz,Tg1OA==  1/18/2018 9:07           IE   \n",
       "\n",
       "          REGION  \n",
       "0        uusimaa  \n",
       "1  ile-de-france  \n",
       "2          dubai  \n",
       "3          praha  \n",
       "4            NaN  "
      ]
     },
     "execution_count": 5,
     "metadata": {},
     "output_type": "execute_result"
    }
   ],
   "source": [
    "df.head() # print first 5 rows of data set"
   ]
  },
  {
   "cell_type": "code",
   "execution_count": 7,
   "metadata": {},
   "outputs": [
    {
     "data": {
      "text/plain": [
       "(4788, 6)"
      ]
     },
     "execution_count": 7,
     "metadata": {},
     "output_type": "execute_result"
    }
   ],
   "source": [
    "df.shape #no.of rows & columns in the given data set"
   ]
  },
  {
   "cell_type": "code",
   "execution_count": 8,
   "metadata": {},
   "outputs": [],
   "source": [
    "a = df.tail(4) # Assigned last 4 rows of dataset through tail to variable a"
   ]
  },
  {
   "cell_type": "code",
   "execution_count": 9,
   "metadata": {},
   "outputs": [
    {
     "data": {
      "text/html": [
       "<div>\n",
       "<style scoped>\n",
       "    .dataframe tbody tr th:only-of-type {\n",
       "        vertical-align: middle;\n",
       "    }\n",
       "\n",
       "    .dataframe tbody tr th {\n",
       "        vertical-align: top;\n",
       "    }\n",
       "\n",
       "    .dataframe thead th {\n",
       "        text-align: right;\n",
       "    }\n",
       "</style>\n",
       "<table border=\"1\" class=\"dataframe\">\n",
       "  <thead>\n",
       "    <tr style=\"text-align: right;\">\n",
       "      <th></th>\n",
       "      <th>RESP_ID</th>\n",
       "      <th>SUR_SCORE</th>\n",
       "      <th>MASKED_IP</th>\n",
       "      <th>CRT_DT</th>\n",
       "      <th>COUNTRY_CODE</th>\n",
       "      <th>REGION</th>\n",
       "    </tr>\n",
       "  </thead>\n",
       "  <tbody>\n",
       "    <tr>\n",
       "      <th>4784</th>\n",
       "      <td>14280186</td>\n",
       "      <td>10</td>\n",
       "      <td>MTY1OTMy,TgzMg==</td>\n",
       "      <td>2/28/2018 20:45</td>\n",
       "      <td>US</td>\n",
       "      <td>florida</td>\n",
       "    </tr>\n",
       "    <tr>\n",
       "      <th>4785</th>\n",
       "      <td>14280278</td>\n",
       "      <td>8</td>\n",
       "      <td>MzA5MDcxOTY1,w==</td>\n",
       "      <td>2/28/2018 20:48</td>\n",
       "      <td>US</td>\n",
       "      <td>ohio</td>\n",
       "    </tr>\n",
       "    <tr>\n",
       "      <th>4786</th>\n",
       "      <td>14281021</td>\n",
       "      <td>8</td>\n",
       "      <td>MzQ1MTc1MTQz,Q==</td>\n",
       "      <td>2/28/2018 21:13</td>\n",
       "      <td>NaN</td>\n",
       "      <td>NaN</td>\n",
       "    </tr>\n",
       "    <tr>\n",
       "      <th>4787</th>\n",
       "      <td>14281427</td>\n",
       "      <td>9</td>\n",
       "      <td>MzYy,TQz,jk4,g==</td>\n",
       "      <td>2/28/2018 21:27</td>\n",
       "      <td>US</td>\n",
       "      <td>texas</td>\n",
       "    </tr>\n",
       "  </tbody>\n",
       "</table>\n",
       "</div>"
      ],
      "text/plain": [
       "       RESP_ID  SUR_SCORE         MASKED_IP           CRT_DT COUNTRY_CODE  \\\n",
       "4784  14280186         10  MTY1OTMy,TgzMg==  2/28/2018 20:45           US   \n",
       "4785  14280278          8  MzA5MDcxOTY1,w==  2/28/2018 20:48           US   \n",
       "4786  14281021          8  MzQ1MTc1MTQz,Q==  2/28/2018 21:13          NaN   \n",
       "4787  14281427          9  MzYy,TQz,jk4,g==  2/28/2018 21:27           US   \n",
       "\n",
       "       REGION  \n",
       "4784  florida  \n",
       "4785     ohio  \n",
       "4786      NaN  \n",
       "4787    texas  "
      ]
     },
     "execution_count": 9,
     "metadata": {},
     "output_type": "execute_result"
    }
   ],
   "source": [
    "a # printing the values that are passed into a"
   ]
  },
  {
   "cell_type": "code",
   "execution_count": 10,
   "metadata": {},
   "outputs": [
    {
     "data": {
      "text/plain": [
       "Index(['RESP_ID', 'SUR_SCORE', 'MASKED_IP', 'CRT_DT', 'COUNTRY_CODE',\n",
       "       'REGION'],\n",
       "      dtype='object')"
      ]
     },
     "execution_count": 10,
     "metadata": {},
     "output_type": "execute_result"
    }
   ],
   "source": [
    "df.columns"
   ]
  },
  {
   "cell_type": "code",
   "execution_count": 18,
   "metadata": {},
   "outputs": [
    {
     "data": {
      "text/plain": [
       "array(['FI', 'FR', 'AE', 'CZ', 'IE', 'HU', 'GB', 'IN', 'IT', 'VN', 'DK',\n",
       "       'NL', 'BE', 'AU', 'PL', 'NP', 'SE', 'BR', 'NO', 'DE', 'US', 'IL',\n",
       "       'UA', 'DO', 'CL', 'CA', 'ES', 'AR', 'JP', 'EC', 'ZA', 'GH', 'RS',\n",
       "       'PH', 'PT', 'AT', 'LU', 'MX', 'CH', 'ID', 'CO', 'RO', 'NZ', 'GR',\n",
       "       'SG', 'MA', 'MN', 'RU', 'LK', 'TW', 'KE', 'MU', 'ME', 'AM', 'EE',\n",
       "       'IR', nan, 'TH', 'BS', 'CR', 'PA', 'MY', 'RE', 'SI', 'BG', 'PK',\n",
       "       'NG', 'EG', 'MZ', 'LV', 'IS', 'AZ', 'TR', 'BH', 'PS', 'CN', 'HR',\n",
       "       'SK', 'ZM', 'GT', 'UY', 'PE', 'BO', 'KH', 'HK', 'LT', 'CY', 'AI',\n",
       "       'MT', 'NI', 'TN', 'SN', 'PY', 'VE', 'HN', 'PR', 'DZ', 'SV', 'BY',\n",
       "       'KW', 'SA', 'AO'], dtype=object)"
      ]
     },
     "execution_count": 18,
     "metadata": {},
     "output_type": "execute_result"
    }
   ],
   "source": [
    "pd.unique(df['COUNTRY_CODE']) # printing all the Unique values of the column COUNTRY_CODE to a list\n",
    "pd.unique(df['COUNTRY_CODE'].tolist()) # this command this all the below diplayed values as list"
   ]
  },
  {
   "cell_type": "code",
   "execution_count": 16,
   "metadata": {},
   "outputs": [
    {
     "name": "stdout",
     "output_type": "stream",
     "text": [
      "4788\n"
     ]
    }
   ],
   "source": [
    "numOfRows = len(df.index) # displaying row count of dataframe by finding the length of index labels\n",
    "print (numOfRows)"
   ]
  },
  {
   "cell_type": "code",
   "execution_count": 22,
   "metadata": {},
   "outputs": [
    {
     "data": {
      "text/plain": [
       "37      13074744\n",
       "48      13075971\n",
       "56      13076664\n",
       "66      13077435\n",
       "68      13077516\n",
       "          ...   \n",
       "4782    14279629\n",
       "4783    14279849\n",
       "4784    14280186\n",
       "4785    14280278\n",
       "4787    14281427\n",
       "Name: RESP_ID, Length: 1468, dtype: int64"
      ]
     },
     "execution_count": 22,
     "metadata": {},
     "output_type": "execute_result"
    }
   ],
   "source": [
    "# display the values of the First column that has country code as US\n",
    "RespVal = df[df['COUNTRY_CODE'] == 'US']\n",
    "RespVal['RESP_ID']"
   ]
  },
  {
   "cell_type": "code",
   "execution_count": null,
   "metadata": {},
   "outputs": [],
   "source": []
  }
 ],
 "metadata": {
  "kernelspec": {
   "display_name": "Python 3",
   "language": "python",
   "name": "python3"
  },
  "language_info": {
   "codemirror_mode": {
    "name": "ipython",
    "version": 3
   },
   "file_extension": ".py",
   "mimetype": "text/x-python",
   "name": "python",
   "nbconvert_exporter": "python",
   "pygments_lexer": "ipython3",
   "version": "3.7.6"
  }
 },
 "nbformat": 4,
 "nbformat_minor": 4
}
