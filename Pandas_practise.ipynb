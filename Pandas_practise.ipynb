{
 "cells": [
  {
   "cell_type": "code",
   "execution_count": 3,
   "metadata": {},
   "outputs": [],
   "source": [
    "import pandas as pd"
   ]
  },
  {
   "cell_type": "code",
   "execution_count": 5,
   "metadata": {},
   "outputs": [],
   "source": [
    "pd.set_option('display.max_columns', 200)\n",
    "pd.set_option('display.max_rows', 200)"
   ]
  },
  {
   "cell_type": "code",
   "execution_count": 10,
   "metadata": {},
   "outputs": [],
   "source": [
    "survey = pd.read_csv(r'C:\\Users\\SAI\\Downloads\\Survey_Resp.csv')"
   ]
  },
  {
   "cell_type": "code",
   "execution_count": 11,
   "metadata": {},
   "outputs": [
    {
     "name": "stdout",
     "output_type": "stream",
     "text": [
      "       RESP_ID  SUR_SCORE         MASKED_IP           CRT_DT COUNTRY_CODE  \\\n",
      "0     13071656          8  MTQ5,Dk1,TMy,A==   1/18/2018 8:48           FI   \n",
      "1     13071811         10  MTM0Mjk4,TE0OA==   1/18/2018 8:59           FR   \n",
      "2     13071889          9      MzY4,DgzOTU=   1/18/2018 9:05           AE   \n",
      "3     13071909         10  MTM4MzU5MjY2Mg==   1/18/2018 9:06           CZ   \n",
      "4     13071920         10  MzU3ODcz,Tg1OA==   1/18/2018 9:07           IE   \n",
      "...        ...        ...               ...              ...          ...   \n",
      "4783  14279849         10  MTYxMzE2,jc1,A==  2/28/2018 20:35           US   \n",
      "4784  14280186         10  MTY1OTMy,TgzMg==  2/28/2018 20:45           US   \n",
      "4785  14280278          8  MzA5MDcxOTY1,w==  2/28/2018 20:48           US   \n",
      "4786  14281021          8  MzQ1MTc1MTQz,Q==  2/28/2018 21:13          NaN   \n",
      "4787  14281427          9  MzYy,TQz,jk4,g==  2/28/2018 21:27           US   \n",
      "\n",
      "             REGION  \n",
      "0           uusimaa  \n",
      "1     ile-de-france  \n",
      "2             dubai  \n",
      "3             praha  \n",
      "4               NaN  \n",
      "...             ...  \n",
      "4783        georgia  \n",
      "4784        florida  \n",
      "4785           ohio  \n",
      "4786            NaN  \n",
      "4787          texas  \n",
      "\n",
      "[4788 rows x 6 columns]\n"
     ]
    }
   ],
   "source": [
    "print(survey)"
   ]
  },
  {
   "cell_type": "code",
   "execution_count": 15,
   "metadata": {},
   "outputs": [
    {
     "data": {
      "text/html": [
       "<div>\n",
       "<style scoped>\n",
       "    .dataframe tbody tr th:only-of-type {\n",
       "        vertical-align: middle;\n",
       "    }\n",
       "\n",
       "    .dataframe tbody tr th {\n",
       "        vertical-align: top;\n",
       "    }\n",
       "\n",
       "    .dataframe thead th {\n",
       "        text-align: right;\n",
       "    }\n",
       "</style>\n",
       "<table border=\"1\" class=\"dataframe\">\n",
       "  <thead>\n",
       "    <tr style=\"text-align: right;\">\n",
       "      <th></th>\n",
       "      <th>RESPONSE_ID</th>\n",
       "      <th>SURVEY_SCORE</th>\n",
       "      <th>MASKED_IP</th>\n",
       "      <th>SURVEY_DATE</th>\n",
       "      <th>COUNTRY_CODE</th>\n",
       "      <th>REGION</th>\n",
       "    </tr>\n",
       "  </thead>\n",
       "  <tbody>\n",
       "    <tr>\n",
       "      <th>0</th>\n",
       "      <td>13071656</td>\n",
       "      <td>8</td>\n",
       "      <td>MTQ5,Dk1,TMy,A==</td>\n",
       "      <td>1/18/2018 8:48</td>\n",
       "      <td>FI</td>\n",
       "      <td>uusimaa</td>\n",
       "    </tr>\n",
       "    <tr>\n",
       "      <th>1</th>\n",
       "      <td>13071811</td>\n",
       "      <td>10</td>\n",
       "      <td>MTM0Mjk4,TE0OA==</td>\n",
       "      <td>1/18/2018 8:59</td>\n",
       "      <td>FR</td>\n",
       "      <td>ile-de-france</td>\n",
       "    </tr>\n",
       "    <tr>\n",
       "      <th>2</th>\n",
       "      <td>13071889</td>\n",
       "      <td>9</td>\n",
       "      <td>MzY4,DgzOTU=</td>\n",
       "      <td>1/18/2018 9:05</td>\n",
       "      <td>AE</td>\n",
       "      <td>dubai</td>\n",
       "    </tr>\n",
       "    <tr>\n",
       "      <th>3</th>\n",
       "      <td>13071909</td>\n",
       "      <td>10</td>\n",
       "      <td>MTM4MzU5MjY2Mg==</td>\n",
       "      <td>1/18/2018 9:06</td>\n",
       "      <td>CZ</td>\n",
       "      <td>praha</td>\n",
       "    </tr>\n",
       "    <tr>\n",
       "      <th>4</th>\n",
       "      <td>13071920</td>\n",
       "      <td>10</td>\n",
       "      <td>MzU3ODcz,Tg1OA==</td>\n",
       "      <td>1/18/2018 9:07</td>\n",
       "      <td>IE</td>\n",
       "      <td>NaN</td>\n",
       "    </tr>\n",
       "  </tbody>\n",
       "</table>\n",
       "</div>"
      ],
      "text/plain": [
       "   RESPONSE_ID  SURVEY_SCORE         MASKED_IP     SURVEY_DATE COUNTRY_CODE  \\\n",
       "0     13071656             8  MTQ5,Dk1,TMy,A==  1/18/2018 8:48           FI   \n",
       "1     13071811            10  MTM0Mjk4,TE0OA==  1/18/2018 8:59           FR   \n",
       "2     13071889             9      MzY4,DgzOTU=  1/18/2018 9:05           AE   \n",
       "3     13071909            10  MTM4MzU5MjY2Mg==  1/18/2018 9:06           CZ   \n",
       "4     13071920            10  MzU3ODcz,Tg1OA==  1/18/2018 9:07           IE   \n",
       "\n",
       "          REGION  \n",
       "0        uusimaa  \n",
       "1  ile-de-france  \n",
       "2          dubai  \n",
       "3          praha  \n",
       "4            NaN  "
      ]
     },
     "execution_count": 15,
     "metadata": {},
     "output_type": "execute_result"
    }
   ],
   "source": [
    "survey.head()"
   ]
  },
  {
   "cell_type": "code",
   "execution_count": 13,
   "metadata": {},
   "outputs": [
    {
     "data": {
      "text/plain": [
       "Index(['RESP_ID', 'SUR_SCORE', 'MASKED_IP', 'CRT_DT', 'COUNTRY_CODE',\n",
       "       'REGION'],\n",
       "      dtype='object')"
      ]
     },
     "execution_count": 13,
     "metadata": {},
     "output_type": "execute_result"
    }
   ],
   "source": [
    "survey.columns"
   ]
  },
  {
   "cell_type": "code",
   "execution_count": 16,
   "metadata": {},
   "outputs": [],
   "source": [
    "headers = [\"RESPONSE_ID\",\"SURVEY_SCORE\", \"MASKED_IP\", \"SURVEY_DATE\", \"COUNTRY_CODE\", \"REGION\"]\n",
    "survey.columns = headers"
   ]
  },
  {
   "cell_type": "code",
   "execution_count": null,
   "metadata": {},
   "outputs": [],
   "source": []
  }
 ],
 "metadata": {
  "kernelspec": {
   "display_name": "Python 3",
   "language": "python",
   "name": "python3"
  },
  "language_info": {
   "codemirror_mode": {
    "name": "ipython",
    "version": 3
   },
   "file_extension": ".py",
   "mimetype": "text/x-python",
   "name": "python",
   "nbconvert_exporter": "python",
   "pygments_lexer": "ipython3",
   "version": "3.7.6"
  }
 },
 "nbformat": 4,
 "nbformat_minor": 4
}
